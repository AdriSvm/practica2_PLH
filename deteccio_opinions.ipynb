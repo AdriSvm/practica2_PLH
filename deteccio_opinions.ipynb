{
 "cells": [
  {
   "cell_type": "code",
   "execution_count": 51,
   "metadata": {
    "collapsed": true
   },
   "outputs": [
    {
     "name": "stderr",
     "output_type": "stream",
     "text": [
      "[nltk_data] Downloading package movie_reviews to\n",
      "[nltk_data]     C:\\Users\\pelot\\AppData\\Roaming\\nltk_data...\n",
      "[nltk_data]   Package movie_reviews is already up-to-date!\n",
      "[nltk_data] Downloading package punkt to\n",
      "[nltk_data]     C:\\Users\\pelot\\AppData\\Roaming\\nltk_data...\n",
      "[nltk_data]   Package punkt is already up-to-date!\n",
      "[nltk_data] Downloading package stopwords to\n",
      "[nltk_data]     C:\\Users\\pelot\\AppData\\Roaming\\nltk_data...\n",
      "[nltk_data]   Package stopwords is already up-to-date!\n"
     ]
    }
   ],
   "source": [
    "import nltk, re\n",
    "import pandas as pd\n",
    "nltk.download('movie_reviews')\n",
    "nltk.download('punkt')\n",
    "nltk.download('stopwords')\n",
    "from nltk.corpus import movie_reviews as mr\n",
    "from nltk.corpus import stopwords\n",
    "from sklearn.feature_extraction.text import CountVectorizer\n",
    "\n",
    "stop_words = stopwords.words('english')"
   ]
  },
  {
   "cell_type": "markdown",
   "metadata": {
    "collapsed": false
   },
   "source": [
    "#### Creem un diccionari de documents on posarem el text de cada document"
   ]
  },
  {
   "cell_type": "code",
   "execution_count": 52,
   "metadata": {
    "collapsed": false
   },
   "outputs": [],
   "source": [
    "tr_pos_docs = {}\n",
    "te_pos_docs = {}\n",
    "for i,val in enumerate(mr.fileids('pos')):\n",
    "    if i < len(mr.fileids('pos'))*0.9:\n",
    "        tr_pos_docs[val] = mr.raw(val)\n",
    "    else:\n",
    "        te_pos_docs[val] = mr.raw(val)\n",
    "\n",
    "tr_neg_docs = {}\n",
    "te_neg_docs = {}\n",
    "for i,val in enumerate(mr.fileids('neg')):\n",
    "    if i < len(mr.fileids('neg'))*0.9:\n",
    "        tr_neg_docs[val] = mr.raw(val)\n",
    "    else:\n",
    "        te_neg_docs[val] = mr.raw(val)\n",
    "\n",
    "tr_neg_docs.update(tr_pos_docs)\n",
    "te_neg_docs.update(te_pos_docs)\n",
    "train = tr_neg_docs \n",
    "test = te_neg_docs\n",
    "\n",
    "\n",
    "\n",
    "#1800 documents per train i 200 per test"
   ]
  },
  {
   "cell_type": "markdown",
   "metadata": {
    "collapsed": false
   },
   "source": [
    "\n",
    "\n",
    "#### Fem la primer neteja de carácters que no aporten informació així com preprocés bàsic"
   ]
  },
  {
   "attachments": {},
   "cell_type": "markdown",
   "metadata": {},
   "source": [
    "El segundo re elimina todos los signos de puntuación !! (así se quita los accentos raros que salian)"
   ]
  },
  {
   "cell_type": "code",
   "execution_count": 53,
   "metadata": {
    "collapsed": false
   },
   "outputs": [],
   "source": [
    "for i in train.keys():\n",
    "    train[i] = train[i].replace(\"&nbsp ;\",\"\")\n",
    "    train[i] = train[i].replace(\"\\n\", \"\")\n",
    "    train[i] = train[i].lower()\n",
    "    train[i] = re.sub(r\"\\d\",\"\",train[i])\n",
    "    train[i] = re.sub(r'[^\\w\\s]', '', train[i])\n"
   ]
  },
  {
   "cell_type": "code",
   "execution_count": 54,
   "metadata": {
    "collapsed": false
   },
   "outputs": [],
   "source": [
    "tokenitzador = lambda x: nltk.word_tokenize(x)"
   ]
  },
  {
   "cell_type": "code",
   "execution_count": 55,
   "metadata": {
    "collapsed": false
   },
   "outputs": [
    {
     "name": "stderr",
     "output_type": "stream",
     "text": [
      "C:\\Users\\pelot\\AppData\\Local\\Packages\\PythonSoftwareFoundation.Python.3.7_qbz5n2kfra8p0\\LocalCache\\local-packages\\Python37\\site-packages\\sklearn\\feature_extraction\\text.py:401: UserWarning: Your stop_words may be inconsistent with your preprocessing. Tokenizing the stop words generated tokens [\"'d\", \"'ll\", \"'re\", \"'s\", \"'ve\", 'could', 'might', 'must', \"n't\", 'need', 'sha', 'wo', 'would'] not in stop_words.\n",
      "  % sorted(inconsistent)\n"
     ]
    },
    {
     "data": {
      "text/plain": [
       "<1800x159 sparse matrix of type '<class 'numpy.int64'>'\n",
       "\twith 93766 stored elements in Compressed Sparse Row format>"
      ]
     },
     "execution_count": 55,
     "metadata": {},
     "output_type": "execute_result"
    }
   ],
   "source": [
    "X = CountVectorizer(strip_accents='ascii',lowercase=True,tokenizer=tokenitzador,stop_words=stop_words, min_df=0.2)\n",
    "X.fit_transform(train.values())\n"
   ]
  },
  {
   "cell_type": "code",
   "execution_count": 56,
   "metadata": {},
   "outputs": [
    {
     "name": "stderr",
     "output_type": "stream",
     "text": [
      "C:\\Users\\pelot\\AppData\\Local\\Packages\\PythonSoftwareFoundation.Python.3.7_qbz5n2kfra8p0\\LocalCache\\local-packages\\Python37\\site-packages\\sklearn\\utils\\deprecation.py:87: FutureWarning: Function get_feature_names is deprecated; get_feature_names is deprecated in 1.0 and will be removed in 1.2. Please use get_feature_names_out instead.\n",
      "  warnings.warn(msg, category=FutureWarning)\n"
     ]
    }
   ],
   "source": [
    "features = X.get_feature_names()\n",
    "df = pd.DataFrame(columns=[\"sentimiento\"] + features)"
   ]
  },
  {
   "cell_type": "code",
   "execution_count": 57,
   "metadata": {},
   "outputs": [],
   "source": [
    "for i, val in enumerate(train.keys()):\n",
    "    valor = X.transform([train[val]]).toarray()\n",
    "    df.loc[len(df)] = [val[0:3]] + list(valor[0])\n"
   ]
  },
  {
   "cell_type": "code",
   "execution_count": 50,
   "metadata": {},
   "outputs": [],
   "source": [
    "df_train = df"
   ]
  },
  {
   "cell_type": "code",
   "execution_count": 58,
   "metadata": {},
   "outputs": [],
   "source": [
    "features = X.get_feature_names()\n",
    "df_test = pd.DataFrame(columns=[\"sentimiento\"] + features)"
   ]
  },
  {
   "cell_type": "code",
   "execution_count": 59,
   "metadata": {},
   "outputs": [],
   "source": [
    "for i, val in enumerate(test.keys()):\n",
    "    valor = X.transform([test[val]]).toarray()\n",
    "    df_test.loc[len(df_test)] = [val[0:3]] + list(valor[0])"
   ]
  },
  {
   "attachments": {},
   "cell_type": "markdown",
   "metadata": {},
   "source": [
    "# Creem el model inicial, farem servir random forest"
   ]
  },
  {
   "cell_type": "code",
   "execution_count": 64,
   "metadata": {},
   "outputs": [
    {
     "name": "stdout",
     "output_type": "stream",
     "text": [
      "Accuracy en train: 1.0 \n",
      " Accuracy en test: 0.77 \n"
     ]
    }
   ],
   "source": [
    "from sklearn.ensemble import RandomForestClassifier\n",
    "from sklearn.metrics import accuracy_score\n",
    "\n",
    "df_train.sample(frac=1, replace= True, random_state=22)\n",
    "df_test.sample(frac=1, replace= True, random_state=22)\n",
    "\n",
    "y_train = df_train[\"sentimiento\"]\n",
    "x_train = df_train.drop(columns=[\"sentimiento\"])\n",
    "\n",
    "y_test = df_test[\"sentimiento\"]\n",
    "x_test = df_test.drop(columns=[\"sentimiento\"])\n",
    "# Crear un modelo de Random Forest con 100 árboles\n",
    "rf = RandomForestClassifier(n_estimators=500, random_state=22)\n",
    "\n",
    "# Entrenar el modelo con los datos de entrenamiento\n",
    "rf.fit(x_train, y_train)\n",
    "\n",
    "# Predecir la clase de los datos de prueba\n",
    "y_pred_train = rf.predict(x_train)\n",
    "y_pred_test = rf.predict(x_test)\n",
    "\n",
    "\n",
    "print(f\"Accuracy en train: {accuracy_score(y_train, y_pred_train)} \\n Accuracy en test: {accuracy_score(y_test, y_pred_test)} \")\n",
    "\n"
   ]
  },
  {
   "cell_type": "code",
   "execution_count": 66,
   "metadata": {},
   "outputs": [
    {
     "name": "stdout",
     "output_type": "stream",
     "text": [
      "      feature  importance\n",
      "15        bad    0.037890\n",
      "72       life    0.017656\n",
      "43       film    0.016483\n",
      "6        also    0.014815\n",
      "57      great    0.014485\n",
      "..        ...         ...\n",
      "120      seem    0.003605\n",
      "68       kind    0.003475\n",
      "63    instead    0.003387\n",
      "107  probably    0.003234\n",
      "130      sure    0.003109\n",
      "\n",
      "[159 rows x 2 columns]\n"
     ]
    }
   ],
   "source": [
    "importances = rf.feature_importances_\n",
    "\n",
    "# Crear un DataFrame con las importancias de las características\n",
    "df_importances = pd.DataFrame({'feature': features, 'importance': importances})\n",
    "\n",
    "# Ordenar el DataFrame por importancia descendente\n",
    "df_importances = df_importances.sort_values('importance', ascending=False)\n",
    "\n",
    "print(df_importances)"
   ]
  },
  {
   "attachments": {},
   "cell_type": "markdown",
   "metadata": {},
   "source": [
    "## Análisis del modelo\n",
    "\n",
    "Como se puede observar, el modelo toma mayor consideración a la hora de clasificar un texto cuando aparece la palabra **bad**, tambien cabe destacar que existen palabras que se fija el modelo que no tienen sentido en cuanto a significado, como preposiciones o adverbios. Es por ello, que se modificará el train para que solo se fije en nombres, adjetivos y verbos. Además, así podremos reducir la dimensionalidad."
   ]
  },
  {
   "cell_type": "code",
   "execution_count": 67,
   "metadata": {},
   "outputs": [
    {
     "name": "stderr",
     "output_type": "stream",
     "text": [
      "[nltk_data] Downloading package averaged_perceptron_tagger to\n",
      "[nltk_data]     C:\\Users\\pelot\\AppData\\Roaming\\nltk_data...\n",
      "[nltk_data]   Package averaged_perceptron_tagger is already up-to-\n",
      "[nltk_data]       date!\n"
     ]
    },
    {
     "data": {
      "text/plain": [
       "True"
      ]
     },
     "execution_count": 67,
     "metadata": {},
     "output_type": "execute_result"
    }
   ],
   "source": [
    "nltk.download('averaged_perceptron_tagger')\n"
   ]
  },
  {
   "cell_type": "code",
   "execution_count": 73,
   "metadata": {},
   "outputs": [],
   "source": [
    "new_train = {}\n",
    "\n",
    "for i in train.keys():\n",
    "    tags = nltk.pos_tag(nltk.word_tokenize(train[i]))\n",
    "    frase = \"\"\n",
    "    for val in tags:\n",
    "        if val[1] in ['VB', 'VBD', 'VBG', 'VBN', 'VBP', 'VBZ','NN', 'NNS', 'JJ', 'JJR', 'JJS']:\n",
    "            frase += val[0] + \" \"\n",
    "    new_train[i] = frase"
   ]
  },
  {
   "attachments": {},
   "cell_type": "markdown",
   "metadata": {},
   "source": [
    "Una vegada que hem obtingut verbs, noms y adjectius, n'hem a entrenar el nostre count vectorizer en el train."
   ]
  },
  {
   "cell_type": "code",
   "execution_count": 74,
   "metadata": {},
   "outputs": [
    {
     "name": "stderr",
     "output_type": "stream",
     "text": [
      "C:\\Users\\pelot\\AppData\\Local\\Packages\\PythonSoftwareFoundation.Python.3.7_qbz5n2kfra8p0\\LocalCache\\local-packages\\Python37\\site-packages\\sklearn\\feature_extraction\\text.py:401: UserWarning: Your stop_words may be inconsistent with your preprocessing. Tokenizing the stop words generated tokens [\"'d\", \"'ll\", \"'re\", \"'s\", \"'ve\", 'could', 'might', 'must', \"n't\", 'need', 'sha', 'wo', 'would'] not in stop_words.\n",
      "  % sorted(inconsistent)\n",
      "C:\\Users\\pelot\\AppData\\Local\\Packages\\PythonSoftwareFoundation.Python.3.7_qbz5n2kfra8p0\\LocalCache\\local-packages\\Python37\\site-packages\\sklearn\\utils\\deprecation.py:87: FutureWarning: Function get_feature_names is deprecated; get_feature_names is deprecated in 1.0 and will be removed in 1.2. Please use get_feature_names_out instead.\n",
      "  warnings.warn(msg, category=FutureWarning)\n"
     ]
    }
   ],
   "source": [
    "X = CountVectorizer(strip_accents='ascii',lowercase=True,tokenizer=tokenitzador,stop_words=stop_words, min_df=0.2)\n",
    "X.fit_transform(new_train.values())\n",
    "\n",
    "features = X.get_feature_names()\n",
    "df_train = pd.DataFrame(columns=[\"sentimiento\"] + features)\n",
    "\n",
    "for i, val in enumerate(new_train.keys()):\n",
    "    valor = X.transform([new_train[val]]).toarray()\n",
    "    df_train.loc[len(df_train)] = [val[0:3]] + list(valor[0])"
   ]
  },
  {
   "cell_type": "code",
   "execution_count": 75,
   "metadata": {},
   "outputs": [
    {
     "name": "stderr",
     "output_type": "stream",
     "text": [
      "C:\\Users\\pelot\\AppData\\Local\\Packages\\PythonSoftwareFoundation.Python.3.7_qbz5n2kfra8p0\\LocalCache\\local-packages\\Python37\\site-packages\\sklearn\\utils\\deprecation.py:87: FutureWarning: Function get_feature_names is deprecated; get_feature_names is deprecated in 1.0 and will be removed in 1.2. Please use get_feature_names_out instead.\n",
      "  warnings.warn(msg, category=FutureWarning)\n"
     ]
    }
   ],
   "source": [
    "features = X.get_feature_names()\n",
    "df_test = pd.DataFrame(columns=[\"sentimiento\"] + features)\n",
    "\n",
    "for i, val in enumerate(test.keys()):\n",
    "    valor = X.transform([test[val]]).toarray()\n",
    "    df_test.loc[len(df_test)] = [val[0:3]] + list(valor[0])"
   ]
  },
  {
   "attachments": {},
   "cell_type": "markdown",
   "metadata": {},
   "source": [
    "Creem el model ambs els mateixos hiperparámetres"
   ]
  },
  {
   "cell_type": "code",
   "execution_count": 79,
   "metadata": {},
   "outputs": [
    {
     "name": "stdout",
     "output_type": "stream",
     "text": [
      "Accuracy en train: 1.0 \n",
      "Accuracy en test: 0.72 \n"
     ]
    }
   ],
   "source": [
    "\n",
    "df_train.sample(frac=1, replace= True, random_state=22)\n",
    "df_test.sample(frac=1, replace= True, random_state=22)\n",
    "\n",
    "y_train = df_train[\"sentimiento\"]\n",
    "x_train = df_train.drop(columns=[\"sentimiento\"])\n",
    "\n",
    "y_test = df_test[\"sentimiento\"]\n",
    "x_test = df_test.drop(columns=[\"sentimiento\"])\n",
    "# Crear un modelo de Random Forest con 100 árboles\n",
    "rf = RandomForestClassifier(n_estimators=500, random_state=22)\n",
    "\n",
    "# Entrenar el modelo con los datos de entrenamiento\n",
    "rf.fit(x_train, y_train)\n",
    "\n",
    "# Predecir la clase de los datos de prueba\n",
    "y_pred_train = rf.predict(x_train)\n",
    "y_pred_test = rf.predict(x_test)\n",
    "\n",
    "\n",
    "print(f\"Accuracy en train: {accuracy_score(y_train, y_pred_train)} \\nAccuracy en test: {accuracy_score(y_test, y_pred_test)} \")\n",
    "\n"
   ]
  },
  {
   "cell_type": "code",
   "execution_count": 93,
   "metadata": {},
   "outputs": [
    {
     "name": "stdout",
     "output_type": "stream",
     "text": [
      "              precision    recall  f1-score   support\n",
      "\n",
      "         neg       0.74      0.67      0.71       100\n",
      "         pos       0.70      0.77      0.73       100\n",
      "\n",
      "    accuracy                           0.72       200\n",
      "   macro avg       0.72      0.72      0.72       200\n",
      "weighted avg       0.72      0.72      0.72       200\n",
      "\n",
      "===========================================================\n"
     ]
    },
    {
     "data": {
      "text/plain": [
       "<sklearn.metrics._plot.confusion_matrix.ConfusionMatrixDisplay at 0x226a5cd2888>"
      ]
     },
     "execution_count": 93,
     "metadata": {},
     "output_type": "execute_result"
    },
    {
     "data": {
      "image/png": "[encoded data removed]",
      "text/plain": [
       "<Figure size 432x288 with 2 Axes>"
      ]
     },
     "metadata": {
      "needs_background": "light"
     },
     "output_type": "display_data"
    }
   ],
   "source": [
    "from sklearn.metrics import classification_report, confusion_matrix, ConfusionMatrixDisplay\n",
    "\n",
    "print(classification_report(y_pred= y_pred_test, y_true= y_test))\n",
    "print(\"===========================================================\")\n",
    "a = ConfusionMatrixDisplay(confusion_matrix(y_test, y_pred_test), display_labels=[\"neg\", \"pos\"])\n",
    "a.plot()"
   ]
  },
  {
   "attachments": {},
   "cell_type": "markdown",
   "metadata": {},
   "source": [
    "Mirem la importància de les labels en el nou model"
   ]
  },
  {
   "cell_type": "code",
   "execution_count": 78,
   "metadata": {},
   "outputs": [
    {
     "name": "stdout",
     "output_type": "stream",
     "text": [
      "    feature  importance\n",
      "5       bad    0.044809\n",
      "26     film    0.022982\n",
      "52     life    0.022496\n",
      "64    movie    0.019646\n",
      "40    great    0.017873\n",
      "..      ...         ...\n",
      "7   becomes    0.005388\n",
      "81    right    0.005291\n",
      "41     help    0.005225\n",
      "35    given    0.005033\n",
      "48     kind    0.004845\n",
      "\n",
      "[116 rows x 2 columns]\n"
     ]
    }
   ],
   "source": [
    "importances = rf.feature_importances_\n",
    "\n",
    "# Crear un DataFrame con las importancias de las características\n",
    "df_importances = pd.DataFrame({'feature': features, 'importance': importances})\n",
    "\n",
    "# Ordenar el DataFrame por importancia descendente\n",
    "df_importances = df_importances.sort_values('importance', ascending=False)\n",
    "\n",
    "print(df_importances)"
   ]
  },
  {
   "attachments": {},
   "cell_type": "markdown",
   "metadata": {},
   "source": [
    "Com es pot observar, Hem reduit, en unes 60 paraules la quantitat de paraules a tenir en compte a l'hora de classificar els diferents textos. A més a més, hem aconseguit la mateixa accuracy que en l'anterior model tenint menys labels, per tant, s'ha reduit la dimensionalitat adequadament.\n",
    "\n",
    "Com es pot observar, al reduir les variables, augmenten les importàncies de les labels en el model, on la més important segueix sent **bad**.\n",
    "\n",
    "Si s'observa el report de classificcació, es pot observar com per la classe negatiu tenim més precissió que la positiva, això pot ser degut a la paraula \"bad\", que ajuda a la precisió de la negativa però pot ser existeixen exemples que no la tenen i per tant, no arribar a reconèixer bé la classe (el nivell de recall és més inferior)."
   ]
  }
 ],
 "metadata": {
  "kernelspec": {
   "display_name": "Python 3",
   "language": "python",
   "name": "python3"
  },
  "language_info": {
   "codemirror_mode": {
    "name": "ipython",
    "version": 3
   },
   "file_extension": ".py",
   "mimetype": "text/x-python",
   "name": "python",
   "nbconvert_exporter": "python",
   "pygments_lexer": "ipython3",
   "version": "3.7.9"
  }
 },
 "nbformat": 4,
 "nbformat_minor": 0
}
