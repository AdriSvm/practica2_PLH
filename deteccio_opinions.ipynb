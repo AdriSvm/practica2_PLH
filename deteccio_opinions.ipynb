{
 "cells": [
  {
   "cell_type": "code",
   "execution_count": 1,
   "metadata": {
    "collapsed": true
   },
   "outputs": [
    {
     "name": "stderr",
     "output_type": "stream",
     "text": [
      "[nltk_data] Downloading package movie_reviews to\n",
      "[nltk_data]     C:\\Users\\pelot\\AppData\\Roaming\\nltk_data...\n",
      "[nltk_data]   Package movie_reviews is already up-to-date!\n",
      "[nltk_data] Downloading package punkt to\n",
      "[nltk_data]     C:\\Users\\pelot\\AppData\\Roaming\\nltk_data...\n",
      "[nltk_data]   Package punkt is already up-to-date!\n",
      "[nltk_data] Downloading package stopwords to\n",
      "[nltk_data]     C:\\Users\\pelot\\AppData\\Roaming\\nltk_data...\n",
      "[nltk_data]   Package stopwords is already up-to-date!\n"
     ]
    }
   ],
   "source": [
    "import nltk, re\n",
    "import pandas as pd\n",
    "nltk.download('movie_reviews')\n",
    "nltk.download('punkt')\n",
    "nltk.download('stopwords')\n",
    "from nltk.corpus import movie_reviews as mr\n",
    "from nltk.corpus import stopwords\n",
    "from sklearn.feature_extraction.text import CountVectorizer\n",
    "\n",
    "stop_words = stopwords.words('english')"
   ]
  },
  {
   "cell_type": "markdown",
   "metadata": {
    "collapsed": false
   },
   "source": [
    "#### Creem un diccionari de documents on posarem el text de cada document"
   ]
  },
  {
   "cell_type": "code",
   "execution_count": 2,
   "metadata": {
    "collapsed": false
   },
   "outputs": [],
   "source": [
    "tr_pos_docs = {}\n",
    "te_pos_docs = {}\n",
    "for i,val in enumerate(mr.fileids('pos')):\n",
    "    if i < len(mr.fileids('pos'))*0.9:\n",
    "        tr_pos_docs[val] = mr.words(val)\n",
    "    else:\n",
    "        te_pos_docs[val] = mr.words(val)\n",
    "\n",
    "tr_neg_docs = {}\n",
    "te_neg_docs = {}\n",
    "for i,val in enumerate(mr.fileids('neg')):\n",
    "    if i < len(mr.fileids('neg'))*0.9:\n",
    "        tr_neg_docs[val] = mr.words(val)\n",
    "    else:\n",
    "        te_neg_docs[val] = mr.words(val)\n",
    "\n",
    "tr_neg_docs.update(tr_pos_docs)\n",
    "te_neg_docs.update(te_pos_docs)\n",
    "train = tr_neg_docs \n",
    "test = te_neg_docs\n",
    "\n",
    "\n",
    "\n",
    "#1800 documents per train i 200 per test"
   ]
  },
  {
   "cell_type": "code",
   "execution_count": 3,
   "metadata": {},
   "outputs": [
    {
     "name": "stderr",
     "output_type": "stream",
     "text": [
      "[nltk_data] Downloading package wordnet to\n",
      "[nltk_data]     C:\\Users\\pelot\\AppData\\Roaming\\nltk_data...\n",
      "[nltk_data]   Package wordnet is already up-to-date!\n",
      "[nltk_data] Downloading package omw-1.4 to\n",
      "[nltk_data]     C:\\Users\\pelot\\AppData\\Roaming\\nltk_data...\n",
      "[nltk_data]   Package omw-1.4 is already up-to-date!\n"
     ]
    }
   ],
   "source": [
    "nltk.download('wordnet')\n",
    "nltk.download('omw-1.4')\n",
    "wnl = nltk.stem.WordNetLemmatizer()\n",
    "def lemmatize(p):\n",
    "  d = {'NN': 'n', 'NNS': 'n', \n",
    "       'JJ': 'a', 'JJR': 'a', 'JJS': 'a', \n",
    "       'VB': 'v', 'VBD': 'v', 'VBG': 'v', 'VBN': 'v', 'VBP': 'v', 'VBZ': 'v', \n",
    "       'RB': 'r', 'RBR': 'r', 'RBS': 'r'}\n",
    "  if p[1] in d:\n",
    "    return wnl.lemmatize(p[0], pos=d[p[1]])\n",
    "  return p[0]"
   ]
  },
  {
   "cell_type": "markdown",
   "metadata": {
    "collapsed": false
   },
   "source": [
    "\n",
    "\n",
    "#### Fem la primer neteja de carácters que no aporten informació així com preprocés bàsic"
   ]
  },
  {
   "attachments": {},
   "cell_type": "markdown",
   "metadata": {},
   "source": [
    "El segundo re elimina todos los signos de puntuación !! (así se quita los accentos raros que salian)"
   ]
  },
  {
   "cell_type": "code",
   "execution_count": 4,
   "metadata": {
    "collapsed": false
   },
   "outputs": [],
   "source": [
    "for i in train.keys():\n",
    "    train[i] = nltk.pos_tag(train[i])   \n",
    "    train[i] = [lemmatize(x) for x in train[i]]\n",
    "    train[i] = \" \".join(train[i])\n",
    "    train[i] = train[i].replace(\"&nbsp ;\",\"\")\n",
    "    train[i] = train[i].replace(\"\\n\", \"\")\n",
    "    train[i] = train[i].lower()\n",
    "    train[i] = re.sub(r\"\\d\",\"\",train[i])\n",
    "    train[i] = re.sub(r'[^\\w\\s]', '', train[i])\n",
    "\n",
    "for i in test.keys():\n",
    "    test[i] = nltk.pos_tag(test[i])   \n",
    "    test[i] = [lemmatize(x) for x in test[i]]\n",
    "    test[i] = \" \".join(test[i])\n",
    "    test[i] = test[i].replace(\"&nbsp ;\",\"\")\n",
    "    test[i] = test[i].replace(\"\\n\", \"\")\n",
    "    test[i] = test[i].lower()\n",
    "    test[i] = re.sub(r\"\\d\",\"\",test[i])\n",
    "    test[i] = re.sub(r'[^\\w\\s]', '', test[i])\n",
    "\n"
   ]
  },
  {
   "cell_type": "code",
   "execution_count": 5,
   "metadata": {
    "collapsed": false
   },
   "outputs": [],
   "source": [
    "tokenitzador = lambda x: nltk.word_tokenize(x)"
   ]
  },
  {
   "cell_type": "code",
   "execution_count": 6,
   "metadata": {
    "collapsed": false
   },
   "outputs": [
    {
     "name": "stderr",
     "output_type": "stream",
     "text": [
      "C:\\Users\\pelot\\AppData\\Local\\Packages\\PythonSoftwareFoundation.Python.3.7_qbz5n2kfra8p0\\LocalCache\\local-packages\\Python37\\site-packages\\sklearn\\feature_extraction\\text.py:401: UserWarning: Your stop_words may be inconsistent with your preprocessing. Tokenizing the stop words generated tokens [\"'d\", \"'ll\", \"'re\", \"'s\", \"'ve\", 'could', 'might', 'must', \"n't\", 'need', 'sha', 'wo', 'would'] not in stop_words.\n",
      "  % sorted(inconsistent)\n"
     ]
    },
    {
     "data": {
      "text/plain": [
       "<1800x180 sparse matrix of type '<class 'numpy.int64'>'\n",
       "\twith 114396 stored elements in Compressed Sparse Row format>"
      ]
     },
     "execution_count": 6,
     "metadata": {},
     "output_type": "execute_result"
    }
   ],
   "source": [
    "X = CountVectorizer(strip_accents='ascii',lowercase=True,tokenizer=tokenitzador,stop_words=stop_words, min_df=0.2)\n",
    "X.fit_transform(train.values())\n"
   ]
  },
  {
   "cell_type": "code",
   "execution_count": 7,
   "metadata": {},
   "outputs": [
    {
     "name": "stderr",
     "output_type": "stream",
     "text": [
      "C:\\Users\\pelot\\AppData\\Local\\Packages\\PythonSoftwareFoundation.Python.3.7_qbz5n2kfra8p0\\LocalCache\\local-packages\\Python37\\site-packages\\sklearn\\utils\\deprecation.py:87: FutureWarning: Function get_feature_names is deprecated; get_feature_names is deprecated in 1.0 and will be removed in 1.2. Please use get_feature_names_out instead.\n",
      "  warnings.warn(msg, category=FutureWarning)\n"
     ]
    }
   ],
   "source": [
    "features = X.get_feature_names()\n",
    "df = pd.DataFrame(columns=[\"sentimiento\"] + features)"
   ]
  },
  {
   "cell_type": "code",
   "execution_count": 8,
   "metadata": {},
   "outputs": [],
   "source": [
    "for i, val in enumerate(train.keys()):\n",
    "    valor = X.transform([train[val]]).toarray()\n",
    "    df.loc[len(df)] = [val[0:3]] + list(valor[0])\n"
   ]
  },
  {
   "cell_type": "code",
   "execution_count": 9,
   "metadata": {},
   "outputs": [],
   "source": [
    "df_train = df"
   ]
  },
  {
   "cell_type": "code",
   "execution_count": 10,
   "metadata": {},
   "outputs": [],
   "source": [
    "features = X.get_feature_names()\n",
    "df_test = pd.DataFrame(columns=[\"sentimiento\"] + features)"
   ]
  },
  {
   "cell_type": "code",
   "execution_count": 11,
   "metadata": {},
   "outputs": [],
   "source": [
    "for i, val in enumerate(test.keys()):\n",
    "    valor = X.transform([test[val]]).toarray()\n",
    "    df_test.loc[len(df_test)] = [val[0:3]] + list(valor[0])"
   ]
  },
  {
   "attachments": {},
   "cell_type": "markdown",
   "metadata": {},
   "source": [
    "# Creem el model inicial, farem servir random forest"
   ]
  },
  {
   "cell_type": "code",
   "execution_count": 12,
   "metadata": {},
   "outputs": [
    {
     "name": "stdout",
     "output_type": "stream",
     "text": [
      "Accuracy en train: 1.0 \n",
      " Accuracy en test: 0.775 \n"
     ]
    }
   ],
   "source": [
    "from sklearn.ensemble import RandomForestClassifier\n",
    "from sklearn.metrics import accuracy_score\n",
    "\n",
    "df_train.sample(frac=1, replace= True, random_state=22)\n",
    "df_test.sample(frac=1, replace= True, random_state=22)\n",
    "\n",
    "y_train = df_train[\"sentimiento\"]\n",
    "x_train = df_train.drop(columns=[\"sentimiento\"])\n",
    "\n",
    "y_test = df_test[\"sentimiento\"]\n",
    "x_test = df_test.drop(columns=[\"sentimiento\"])\n",
    "# Crear un modelo de Random Forest con 100 árboles\n",
    "rf = RandomForestClassifier(n_estimators=500, random_state=22)\n",
    "\n",
    "# Entrenar el modelo con los datos de entrenamiento\n",
    "rf.fit(x_train, y_train)\n",
    "\n",
    "# Predecir la clase de los datos de prueba\n",
    "y_pred_train = rf.predict(x_train)\n",
    "y_pred_test = rf.predict(x_test)\n",
    "\n",
    "\n",
    "print(f\"Accuracy en train: {accuracy_score(y_train, y_pred_train)} \\n Accuracy en test: {accuracy_score(y_test, y_pred_test)} \")\n",
    "\n"
   ]
  },
  {
   "cell_type": "code",
   "execution_count": 13,
   "metadata": {},
   "outputs": [
    {
     "name": "stdout",
     "output_type": "stream",
     "text": [
      "         feature  importance\n",
      "16           bad    0.051898\n",
      "84          life    0.017009\n",
      "118  performance    0.014997\n",
      "46          film    0.014202\n",
      "57         great    0.014100\n",
      "..           ...         ...\n",
      "99          meet    0.002978\n",
      "151         sure    0.002642\n",
      "124     probably    0.002613\n",
      "69       instead    0.002564\n",
      "33        direct    0.002552\n",
      "\n",
      "[180 rows x 2 columns]\n"
     ]
    }
   ],
   "source": [
    "importances = rf.feature_importances_\n",
    "\n",
    "# Crear un DataFrame con las importancias de las características\n",
    "df_importances = pd.DataFrame({'feature': features, 'importance': importances})\n",
    "\n",
    "# Ordenar el DataFrame por importancia descendente\n",
    "df_importances = df_importances.sort_values('importance', ascending=False)\n",
    "\n",
    "print(df_importances)"
   ]
  },
  {
   "attachments": {},
   "cell_type": "markdown",
   "metadata": {},
   "source": [
    "## Análisis del modelo\n",
    "\n",
    "Como se puede observar, el modelo toma mayor consideración a la hora de clasificar un texto cuando aparece la palabra **bad**, tambien cabe destacar que existen palabras que se fija el modelo que no tienen sentido en cuanto a significado, como preposiciones o adverbios. Es por ello, que se modificará el train para que solo se fije en nombres, adjetivos y verbos. Además, así podremos reducir la dimensionalidad."
   ]
  },
  {
   "cell_type": "code",
   "execution_count": 14,
   "metadata": {},
   "outputs": [
    {
     "name": "stderr",
     "output_type": "stream",
     "text": [
      "[nltk_data] Downloading package averaged_perceptron_tagger to\n",
      "[nltk_data]     C:\\Users\\pelot\\AppData\\Roaming\\nltk_data...\n",
      "[nltk_data]   Package averaged_perceptron_tagger is already up-to-\n",
      "[nltk_data]       date!\n"
     ]
    },
    {
     "data": {
      "text/plain": [
       "True"
      ]
     },
     "execution_count": 14,
     "metadata": {},
     "output_type": "execute_result"
    }
   ],
   "source": [
    "nltk.download('averaged_perceptron_tagger')\n"
   ]
  },
  {
   "cell_type": "code",
   "execution_count": 15,
   "metadata": {},
   "outputs": [],
   "source": [
    "new_train = {}\n",
    "\n",
    "for i in train.keys():\n",
    "    tags = nltk.pos_tag(nltk.word_tokenize(train[i]))\n",
    "    frase = \"\"\n",
    "    for val in tags:\n",
    "        if val[1] in ['VB', 'VBD', 'VBG', 'VBN', 'VBP', 'VBZ','NN', 'NNS', 'JJ', 'JJR', 'JJS']:\n",
    "            frase += val[0] + \" \"\n",
    "    new_train[i] = frase"
   ]
  },
  {
   "attachments": {},
   "cell_type": "markdown",
   "metadata": {},
   "source": [
    "Una vegada que hem obtingut verbs, noms y adjectius, n'hem a entrenar el nostre count vectorizer en el train."
   ]
  },
  {
   "cell_type": "code",
   "execution_count": 16,
   "metadata": {},
   "outputs": [
    {
     "name": "stderr",
     "output_type": "stream",
     "text": [
      "C:\\Users\\pelot\\AppData\\Local\\Packages\\PythonSoftwareFoundation.Python.3.7_qbz5n2kfra8p0\\LocalCache\\local-packages\\Python37\\site-packages\\sklearn\\feature_extraction\\text.py:401: UserWarning: Your stop_words may be inconsistent with your preprocessing. Tokenizing the stop words generated tokens [\"'d\", \"'ll\", \"'re\", \"'s\", \"'ve\", 'could', 'might', 'must', \"n't\", 'need', 'sha', 'wo', 'would'] not in stop_words.\n",
      "  % sorted(inconsistent)\n",
      "C:\\Users\\pelot\\AppData\\Local\\Packages\\PythonSoftwareFoundation.Python.3.7_qbz5n2kfra8p0\\LocalCache\\local-packages\\Python37\\site-packages\\sklearn\\utils\\deprecation.py:87: FutureWarning: Function get_feature_names is deprecated; get_feature_names is deprecated in 1.0 and will be removed in 1.2. Please use get_feature_names_out instead.\n",
      "  warnings.warn(msg, category=FutureWarning)\n"
     ]
    }
   ],
   "source": [
    "X = CountVectorizer(strip_accents='ascii',lowercase=True,tokenizer=tokenitzador,stop_words=stop_words, min_df=0.2)\n",
    "X.fit_transform(new_train.values())\n",
    "\n",
    "features = X.get_feature_names()\n",
    "df_train = pd.DataFrame(columns=[\"sentimiento\"] + features)\n",
    "\n",
    "for i, val in enumerate(new_train.keys()):\n",
    "    valor = X.transform([new_train[val]]).toarray()\n",
    "    df_train.loc[len(df_train)] = [val[0:3]] + list(valor[0])"
   ]
  },
  {
   "cell_type": "code",
   "execution_count": 17,
   "metadata": {},
   "outputs": [],
   "source": [
    "features = X.get_feature_names()\n",
    "df_test = pd.DataFrame(columns=[\"sentimiento\"] + features)\n",
    "\n",
    "for i, val in enumerate(test.keys()):\n",
    "    valor = X.transform([test[val]]).toarray()\n",
    "    df_test.loc[len(df_test)] = [val[0:3]] + list(valor[0])"
   ]
  },
  {
   "attachments": {},
   "cell_type": "markdown",
   "metadata": {},
   "source": [
    "Creem el model ambs els mateixos hiperparámetres"
   ]
  },
  {
   "cell_type": "code",
   "execution_count": 18,
   "metadata": {},
   "outputs": [
    {
     "name": "stdout",
     "output_type": "stream",
     "text": [
      "Accuracy en train: 1.0 \n",
      "Accuracy en test: 0.79 \n"
     ]
    }
   ],
   "source": [
    "\n",
    "df_train.sample(frac=1, replace= True, random_state=22)\n",
    "df_test.sample(frac=1, replace= True, random_state=22)\n",
    "\n",
    "y_train = df_train[\"sentimiento\"]\n",
    "x_train = df_train.drop(columns=[\"sentimiento\"])\n",
    "\n",
    "y_test = df_test[\"sentimiento\"]\n",
    "x_test = df_test.drop(columns=[\"sentimiento\"])\n",
    "# Crear un modelo de Random Forest con 100 árboles\n",
    "rf = RandomForestClassifier(n_estimators=500, random_state=22)\n",
    "\n",
    "# Entrenar el modelo con los datos de entrenamiento\n",
    "rf.fit(x_train, y_train)\n",
    "\n",
    "# Predecir la clase de los datos de prueba\n",
    "y_pred_train = rf.predict(x_train)\n",
    "y_pred_test = rf.predict(x_test)\n",
    "\n",
    "\n",
    "print(f\"Accuracy en train: {accuracy_score(y_train, y_pred_train)} \\nAccuracy en test: {accuracy_score(y_test, y_pred_test)} \")\n",
    "\n"
   ]
  },
  {
   "cell_type": "code",
   "execution_count": 19,
   "metadata": {},
   "outputs": [
    {
     "name": "stdout",
     "output_type": "stream",
     "text": [
      "              precision    recall  f1-score   support\n",
      "\n",
      "         neg       0.78      0.81      0.79       100\n",
      "         pos       0.80      0.77      0.79       100\n",
      "\n",
      "    accuracy                           0.79       200\n",
      "   macro avg       0.79      0.79      0.79       200\n",
      "weighted avg       0.79      0.79      0.79       200\n",
      "\n",
      "===========================================================\n"
     ]
    },
    {
     "data": {
      "text/plain": [
       "<sklearn.metrics._plot.confusion_matrix.ConfusionMatrixDisplay at 0x202a0654c08>"
      ]
     },
     "execution_count": 19,
     "metadata": {},
     "output_type": "execute_result"
    },
    {
     "data": {
      "image/png": "[encoded data removed]",
      "text/plain": [
       "<Figure size 432x288 with 2 Axes>"
      ]
     },
     "metadata": {
      "needs_background": "light"
     },
     "output_type": "display_data"
    }
   ],
   "source": [
    "from sklearn.metrics import classification_report, confusion_matrix, ConfusionMatrixDisplay\n",
    "\n",
    "print(classification_report(y_pred= y_pred_test, y_true= y_test))\n",
    "print(\"===========================================================\")\n",
    "a = ConfusionMatrixDisplay(confusion_matrix(y_test, y_pred_test), display_labels=[\"neg\", \"pos\"])\n",
    "a.plot()"
   ]
  },
  {
   "attachments": {},
   "cell_type": "markdown",
   "metadata": {},
   "source": [
    "Mirem la importància de les labels en el nou model"
   ]
  },
  {
   "cell_type": "code",
   "execution_count": 20,
   "metadata": {},
   "outputs": [
    {
     "name": "stdout",
     "output_type": "stream",
     "text": [
      "        feature  importance\n",
      "6           bad    0.056992\n",
      "65         life    0.019883\n",
      "30         film    0.019224\n",
      "41        great    0.017703\n",
      "83        movie    0.017414\n",
      "..          ...         ...\n",
      "82         move    0.003895\n",
      "9       believe    0.003838\n",
      "79         mind    0.003819\n",
      "52  interesting    0.003781\n",
      "69         long    0.003691\n",
      "\n",
      "[139 rows x 2 columns]\n"
     ]
    }
   ],
   "source": [
    "importances = rf.feature_importances_\n",
    "\n",
    "# Crear un DataFrame con las importancias de las características\n",
    "df_importances = pd.DataFrame({'feature': features, 'importance': importances})\n",
    "\n",
    "# Ordenar el DataFrame por importancia descendente\n",
    "df_importances = df_importances.sort_values('importance', ascending=False)\n",
    "\n",
    "print(df_importances)"
   ]
  },
  {
   "attachments": {},
   "cell_type": "markdown",
   "metadata": {},
   "source": [
    "Com es pot observar, Hem reduit, en unes 60 paraules la quantitat de paraules a tenir en compte a l'hora de classificar els diferents textos. A més a més, hem aconseguit la mateixa accuracy que en l'anterior model tenint menys labels, per tant, s'ha reduit la dimensionalitat adequadament.\n",
    "\n",
    "Com es pot observar, al reduir les variables, augmenten les importàncies de les labels en el model, on la més important segueix sent **bad**.\n",
    "\n",
    "Si s'observa el report de classificcació, es pot observar com per la classe negatiu tenim més precissió que la positiva, això pot ser degut a la paraula \"bad\", que ajuda a la precisió de la negativa però pot ser existeixen exemples que no la tenen i per tant, no arribar a reconèixer bé la classe (el nivell de recall és més inferior)."
   ]
  },
  {
   "attachments": {},
   "cell_type": "markdown",
   "metadata": {},
   "source": [
    "## Model no supervisat"
   ]
  },
  {
   "cell_type": "code",
   "execution_count": 21,
   "metadata": {},
   "outputs": [
    {
     "data": {
      "text/plain": [
       "['2023-03-29']"
      ]
     },
     "execution_count": 21,
     "metadata": {},
     "output_type": "execute_result"
    }
   ],
   "source": [
    "fecha_str = \"2023-03-29\"\n",
    "patron = r\"\\d{4}-\\d{2}-\\d{2}\"\n",
    "\n",
    "fecha_match = re.findall(patron, fecha_str)\n",
    "fecha_match"
   ]
  },
  {
   "cell_type": "code",
   "execution_count": 22,
   "metadata": {},
   "outputs": [],
   "source": [
    "from nltk.corpus import wordnet as wn\n",
    "from nltk.corpus import sentiwordnet as swn"
   ]
  },
  {
   "attachments": {},
   "cell_type": "markdown",
   "metadata": {},
   "source": [
    "A continuació es fará diversos dataframes, on guardarem els valors positius dels sinsets i altre on hi hagi els valors negatius "
   ]
  },
  {
   "cell_type": "code",
   "execution_count": 23,
   "metadata": {},
   "outputs": [
    {
     "name": "stderr",
     "output_type": "stream",
     "text": [
      "[nltk_data] Downloading package wordnet to\n",
      "[nltk_data]     C:\\Users\\pelot\\AppData\\Roaming\\nltk_data...\n",
      "[nltk_data]   Package wordnet is already up-to-date!\n",
      "[nltk_data] Downloading package omw-1.4 to\n",
      "[nltk_data]     C:\\Users\\pelot\\AppData\\Roaming\\nltk_data...\n",
      "[nltk_data]   Package omw-1.4 is already up-to-date!\n"
     ]
    }
   ],
   "source": [
    "import nltk\n",
    "\n",
    "nltk.download('wordnet')\n",
    "nltk.download('omw-1.4')\n",
    "wnl = nltk.stem.WordNetLemmatizer()\n",
    "def lemmatize(p):\n",
    "  d = {'NN': 'n', 'NNS': 'n', \n",
    "       'JJ': 'a', 'JJR': 'a', 'JJS': 'a', \n",
    "       'VB': 'v', 'VBD': 'v', 'VBG': 'v', 'VBN': 'v', 'VBP': 'v', 'VBZ': 'v', \n",
    "       'RB': 'r', 'RBR': 'r', 'RBS': 'r'}\n",
    "  if p[1] in d:\n",
    "    return [wnl.lemmatize(p[0], pos=d[p[1]]), d[p[1]]]\n",
    "  return [p[0]]"
   ]
  },
  {
   "cell_type": "code",
   "execution_count": 24,
   "metadata": {},
   "outputs": [],
   "source": [
    "def model_no_supervisat(dades:dict):\n",
    "    dd = pd.DataFrame(columns=[\"Exemple\", \"quantitat_pos\", \"quantitat_neg\", \"prediccio\", \"true_label\"])\n",
    "    for tag in dades.keys():\n",
    "        exemple = nltk.word_tokenize(dades[tag])\n",
    "        exemple_tagged = nltk.pos_tag(exemple)\n",
    "        quant_pos = 0\n",
    "        quant_neg = 0\n",
    "        for x in range(len(exemple)):\n",
    "            lema = lemmatize(exemple_tagged[x])\n",
    "            if len(lema) == 1:\n",
    "                quant_neg += 0\n",
    "                quant_pos += 0\n",
    "            else:\n",
    "                synset = nltk.wsd.lesk(exemple, exemple[x], lema[1])\n",
    "                if synset is None:\n",
    "                    pass\n",
    "                else:\n",
    "                    senti = swn.senti_synset(synset.name())\n",
    "                    quant_neg += senti.neg_score()\n",
    "                    quant_pos += senti.pos_score()\n",
    "\n",
    "        resultat = \"neg\" if quant_neg > quant_pos else \"pos\"\n",
    "        dd.loc[len(dd)] = [tag] + [quant_pos] + [quant_neg] + [resultat] + [tag[0:3]]\n",
    "\n",
    "    return dd"
   ]
  },
  {
   "cell_type": "code",
   "execution_count": 25,
   "metadata": {},
   "outputs": [],
   "source": [
    "dd_train_pred = model_no_supervisat(train)"
   ]
  },
  {
   "cell_type": "code",
   "execution_count": 26,
   "metadata": {},
   "outputs": [
    {
     "name": "stdout",
     "output_type": "stream",
     "text": [
      "              precision    recall  f1-score   support\n",
      "\n",
      "         neg       0.66      0.32      0.43       900\n",
      "         pos       0.55      0.83      0.66       900\n",
      "\n",
      "    accuracy                           0.58      1800\n",
      "   macro avg       0.60      0.58      0.55      1800\n",
      "weighted avg       0.60      0.58      0.55      1800\n",
      "\n"
     ]
    }
   ],
   "source": [
    "print(classification_report(dd_train_pred[\"true_label\"], dd_train_pred[\"prediccio\"]))"
   ]
  },
  {
   "cell_type": "code",
   "execution_count": 27,
   "metadata": {},
   "outputs": [],
   "source": [
    "dd_final = model_no_supervisat(test)"
   ]
  },
  {
   "cell_type": "code",
   "execution_count": 28,
   "metadata": {},
   "outputs": [
    {
     "data": {
      "text/html": [
       "<div>\n",
       "<style scoped>\n",
       "    .dataframe tbody tr th:only-of-type {\n",
       "        vertical-align: middle;\n",
       "    }\n",
       "\n",
       "    .dataframe tbody tr th {\n",
       "        vertical-align: top;\n",
       "    }\n",
       "\n",
       "    .dataframe thead th {\n",
       "        text-align: right;\n",
       "    }\n",
       "</style>\n",
       "<table border=\"1\" class=\"dataframe\">\n",
       "  <thead>\n",
       "    <tr style=\"text-align: right;\">\n",
       "      <th></th>\n",
       "      <th>Exemple</th>\n",
       "      <th>quantitat_pos</th>\n",
       "      <th>quantitat_neg</th>\n",
       "      <th>prediccio</th>\n",
       "      <th>true_label</th>\n",
       "    </tr>\n",
       "  </thead>\n",
       "  <tbody>\n",
       "    <tr>\n",
       "      <th>0</th>\n",
       "      <td>neg/cv900_10800.txt</td>\n",
       "      <td>16.625</td>\n",
       "      <td>15.250</td>\n",
       "      <td>pos</td>\n",
       "      <td>neg</td>\n",
       "    </tr>\n",
       "    <tr>\n",
       "      <th>1</th>\n",
       "      <td>neg/cv901_11934.txt</td>\n",
       "      <td>5.750</td>\n",
       "      <td>6.875</td>\n",
       "      <td>neg</td>\n",
       "      <td>neg</td>\n",
       "    </tr>\n",
       "    <tr>\n",
       "      <th>2</th>\n",
       "      <td>neg/cv902_13217.txt</td>\n",
       "      <td>25.375</td>\n",
       "      <td>24.250</td>\n",
       "      <td>pos</td>\n",
       "      <td>neg</td>\n",
       "    </tr>\n",
       "    <tr>\n",
       "      <th>3</th>\n",
       "      <td>neg/cv903_18981.txt</td>\n",
       "      <td>10.875</td>\n",
       "      <td>7.500</td>\n",
       "      <td>pos</td>\n",
       "      <td>neg</td>\n",
       "    </tr>\n",
       "    <tr>\n",
       "      <th>4</th>\n",
       "      <td>neg/cv904_25663.txt</td>\n",
       "      <td>6.250</td>\n",
       "      <td>7.875</td>\n",
       "      <td>neg</td>\n",
       "      <td>neg</td>\n",
       "    </tr>\n",
       "    <tr>\n",
       "      <th>...</th>\n",
       "      <td>...</td>\n",
       "      <td>...</td>\n",
       "      <td>...</td>\n",
       "      <td>...</td>\n",
       "      <td>...</td>\n",
       "    </tr>\n",
       "    <tr>\n",
       "      <th>195</th>\n",
       "      <td>pos/cv995_21821.txt</td>\n",
       "      <td>38.875</td>\n",
       "      <td>16.125</td>\n",
       "      <td>pos</td>\n",
       "      <td>pos</td>\n",
       "    </tr>\n",
       "    <tr>\n",
       "      <th>196</th>\n",
       "      <td>pos/cv996_11592.txt</td>\n",
       "      <td>11.125</td>\n",
       "      <td>10.500</td>\n",
       "      <td>pos</td>\n",
       "      <td>pos</td>\n",
       "    </tr>\n",
       "    <tr>\n",
       "      <th>197</th>\n",
       "      <td>pos/cv997_5046.txt</td>\n",
       "      <td>30.250</td>\n",
       "      <td>32.625</td>\n",
       "      <td>neg</td>\n",
       "      <td>pos</td>\n",
       "    </tr>\n",
       "    <tr>\n",
       "      <th>198</th>\n",
       "      <td>pos/cv998_14111.txt</td>\n",
       "      <td>22.500</td>\n",
       "      <td>15.500</td>\n",
       "      <td>pos</td>\n",
       "      <td>pos</td>\n",
       "    </tr>\n",
       "    <tr>\n",
       "      <th>199</th>\n",
       "      <td>pos/cv999_13106.txt</td>\n",
       "      <td>33.500</td>\n",
       "      <td>24.125</td>\n",
       "      <td>pos</td>\n",
       "      <td>pos</td>\n",
       "    </tr>\n",
       "  </tbody>\n",
       "</table>\n",
       "<p>200 rows × 5 columns</p>\n",
       "</div>"
      ],
      "text/plain": [
       "                 Exemple  quantitat_pos  quantitat_neg prediccio true_label\n",
       "0    neg/cv900_10800.txt         16.625         15.250       pos        neg\n",
       "1    neg/cv901_11934.txt          5.750          6.875       neg        neg\n",
       "2    neg/cv902_13217.txt         25.375         24.250       pos        neg\n",
       "3    neg/cv903_18981.txt         10.875          7.500       pos        neg\n",
       "4    neg/cv904_25663.txt          6.250          7.875       neg        neg\n",
       "..                   ...            ...            ...       ...        ...\n",
       "195  pos/cv995_21821.txt         38.875         16.125       pos        pos\n",
       "196  pos/cv996_11592.txt         11.125         10.500       pos        pos\n",
       "197   pos/cv997_5046.txt         30.250         32.625       neg        pos\n",
       "198  pos/cv998_14111.txt         22.500         15.500       pos        pos\n",
       "199  pos/cv999_13106.txt         33.500         24.125       pos        pos\n",
       "\n",
       "[200 rows x 5 columns]"
      ]
     },
     "execution_count": 28,
     "metadata": {},
     "output_type": "execute_result"
    }
   ],
   "source": [
    "dd_final"
   ]
  },
  {
   "cell_type": "code",
   "execution_count": 29,
   "metadata": {},
   "outputs": [
    {
     "name": "stdout",
     "output_type": "stream",
     "text": [
      "              precision    recall  f1-score   support\n",
      "\n",
      "         neg       0.62      0.28      0.39       100\n",
      "         pos       0.54      0.83      0.65       100\n",
      "\n",
      "    accuracy                           0.56       200\n",
      "   macro avg       0.58      0.55      0.52       200\n",
      "weighted avg       0.58      0.56      0.52       200\n",
      "\n"
     ]
    }
   ],
   "source": [
    "print(classification_report(dd_final[\"true_label\"], dd_final[\"prediccio\"]))"
   ]
  },
  {
   "attachments": {},
   "cell_type": "markdown",
   "metadata": {},
   "source": [
    "## Experiment:\n",
    "Y si li donem més pes als adjectius?"
   ]
  },
  {
   "cell_type": "code",
   "execution_count": 30,
   "metadata": {},
   "outputs": [],
   "source": [
    "pesos = {\"n\":1, \"a\":3, \"v\":1, \"r\":1}"
   ]
  },
  {
   "cell_type": "code",
   "execution_count": 31,
   "metadata": {},
   "outputs": [],
   "source": [
    "def model_no_supervisat(dades:dict, pesos):\n",
    "    dd = pd.DataFrame(columns=[\"Exemple\", \"quantitat_pos\", \"quantitat_neg\", \"prediccio\", \"true_label\"])\n",
    "    for tag in dades.keys():\n",
    "        exemple = nltk.word_tokenize(dades[tag])\n",
    "        exemple_tagged = nltk.pos_tag(exemple)\n",
    "        quant_pos = 0\n",
    "        quant_neg = 0\n",
    "        for x in range(len(exemple)):\n",
    "            lema = lemmatize(exemple_tagged[x])\n",
    "            if len(lema) == 1:\n",
    "                pass\n",
    "            else:\n",
    "                synset = nltk.wsd.lesk(exemple, exemple[x], lema[1])\n",
    "                if synset is None:\n",
    "                    pass\n",
    "                else:\n",
    "                    senti = swn.senti_synset(synset.name())\n",
    "                    quant_neg += senti.neg_score()*pesos[lema[1]]\n",
    "                    quant_pos += senti.pos_score()*pesos[lema[1]]\n",
    "\n",
    "        resultat = \"neg\" if quant_neg > quant_pos else \"pos\"\n",
    "        dd.loc[len(dd)] = [tag] + [quant_pos] + [quant_neg] + [resultat] + [tag[0:3]]\n",
    "\n",
    "    return dd"
   ]
  },
  {
   "cell_type": "code",
   "execution_count": 32,
   "metadata": {},
   "outputs": [],
   "source": [
    "dd_test_pred = model_no_supervisat(test, pesos)"
   ]
  },
  {
   "cell_type": "code",
   "execution_count": 33,
   "metadata": {},
   "outputs": [
    {
     "name": "stdout",
     "output_type": "stream",
     "text": [
      "              precision    recall  f1-score   support\n",
      "\n",
      "         neg       0.63      0.42      0.50       100\n",
      "         pos       0.56      0.75      0.64       100\n",
      "\n",
      "    accuracy                           0.58       200\n",
      "   macro avg       0.60      0.58      0.57       200\n",
      "weighted avg       0.60      0.58      0.57       200\n",
      "\n"
     ]
    }
   ],
   "source": [
    "print(classification_report(dd_test_pred[\"true_label\"], dd_test_pred[\"prediccio\"]))"
   ]
  },
  {
   "attachments": {},
   "cell_type": "markdown",
   "metadata": {},
   "source": [
    "Y si fem que els adverbis no comptin i reduim el pes tant per noms com per verbs??"
   ]
  },
  {
   "cell_type": "code",
   "execution_count": 37,
   "metadata": {},
   "outputs": [
    {
     "name": "stdout",
     "output_type": "stream",
     "text": [
      "              precision    recall  f1-score   support\n",
      "\n",
      "         neg       0.64      0.49      0.55       100\n",
      "         pos       0.59      0.72      0.65       100\n",
      "\n",
      "    accuracy                           0.60       200\n",
      "   macro avg       0.61      0.60      0.60       200\n",
      "weighted avg       0.61      0.60      0.60       200\n",
      "\n"
     ]
    }
   ],
   "source": [
    "pesos = {\"n\":0.2, \"a\":3, \"v\":0.2, \"r\":0}\n",
    "dd_test_pred = model_no_supervisat(test, pesos)\n",
    "print(classification_report(dd_test_pred[\"true_label\"], dd_test_pred[\"prediccio\"]))"
   ]
  },
  {
   "cell_type": "code",
   "execution_count": 47,
   "metadata": {},
   "outputs": [
    {
     "name": "stdout",
     "output_type": "stream",
     "text": [
      "              precision    recall  f1-score   support\n",
      "\n",
      "         neg       0.65      0.51      0.57       900\n",
      "         pos       0.59      0.72      0.65       900\n",
      "\n",
      "    accuracy                           0.61      1800\n",
      "   macro avg       0.62      0.61      0.61      1800\n",
      "weighted avg       0.62      0.61      0.61      1800\n",
      "\n"
     ]
    }
   ],
   "source": [
    "pesos = {\"n\":0.2, \"a\":3, \"v\":0.3, \"r\":0.2}\n",
    "dd_test_pred = model_no_supervisat(train, pesos)\n",
    "print(classification_report(dd_test_pred[\"true_label\"], dd_test_pred[\"prediccio\"]))"
   ]
  }
 ],
 "metadata": {
  "kernelspec": {
   "display_name": "Python 3",
   "language": "python",
   "name": "python3"
  },
  "language_info": {
   "codemirror_mode": {
    "name": "ipython",
    "version": 3
   },
   "file_extension": ".py",
   "mimetype": "text/x-python",
   "name": "python",
   "nbconvert_exporter": "python",
   "pygments_lexer": "ipython3",
   "version": "3.7.9"
  }
 },
 "nbformat": 4,
 "nbformat_minor": 0
}
